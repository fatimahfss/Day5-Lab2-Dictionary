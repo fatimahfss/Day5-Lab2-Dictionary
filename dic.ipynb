{
  "nbformat": 4,
  "nbformat_minor": 0,
  "metadata": {
    "colab": {
      "name": "Untitled0.ipynb",
      "provenance": []
    },
    "kernelspec": {
      "name": "python3",
      "display_name": "Python 3"
    },
    "language_info": {
      "name": "python"
    }
  },
  "cells": [
    {
      "cell_type": "code",
      "execution_count": 23,
      "metadata": {
        "colab": {
          "base_uri": "https://localhost:8080/",
          "height": 122
        },
        "id": "0Ac0B8LcfjxF",
        "outputId": "dfd82f55-1944-404e-944f-5547fe14a15d"
      },
      "outputs": [
        {
          "output_type": "stream",
          "name": "stdout",
          "text": [
            "enter numbergu_number\n",
            "This is invalid number\n",
            "enter number2222222222\n",
            "User name is :    Mohammed\n"
          ]
        },
        {
          "output_type": "execute_result",
          "data": {
            "text/plain": [
              "'\\n    for x in numbers.items():\\n        if gu_number == x.value():\\n            print(key)\\n            return\\n        #return \"This is invalid number\"\\n\\n    print(\"Sorry, the number is not found\")\\nphone_book()\\n'"
            ],
            "application/vnd.google.colaboratory.intrinsic+json": {
              "type": "string"
            }
          },
          "metadata": {},
          "execution_count": 23
        }
      ],
      "source": [
        "numbers = {\"Amal\": 1111111111, \"Mohammed\": 2222222222, \"Khadijah\": 3333333333, \"Abdullah\": 4444444444, \"Rawan\":5555555555, \"Faisal\": 6666666666, \"Layla\": 7777777777}\n",
        "while True:\n",
        "  gu_number = input('enter number')\n",
        "  if gu_number.isdigit()== False:\n",
        "    print(\"This is invalid number\")\n",
        "    continue\n",
        "  elif len(gu_number) != 10:\n",
        "    print(\"This is invalid number\")\n",
        "    continue\n",
        "  else:\n",
        "    break\n",
        "#print(numbers.values())\n",
        "gu_number=int(gu_number)\n",
        "for name,num in numbers.items():\n",
        "  if gu_number==num:\n",
        "    print('User name is :   ',name)\n",
        "    break\n",
        "else:\n",
        "    print('Sorry, the number is not found ')\n"
      ]
    }
  ]
}